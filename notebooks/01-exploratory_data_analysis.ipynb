{
 "cells": [
  {
   "cell_type": "markdown",
   "metadata": {},
   "source": [
    "# Análise exploratória de dados"
   ]
  },
  {
   "cell_type": "code",
   "execution_count": null,
   "metadata": {},
   "outputs": [],
   "source": [
    "import pandas as pd"
   ]
  },
  {
   "cell_type": "markdown",
   "metadata": {},
   "source": [
    "## 1. Descrição dos dados"
   ]
  },
  {
   "cell_type": "markdown",
   "metadata": {},
   "source": [
    " - [ ] **Descrição dos dados**:  variáesveis e seus tipos, \n",
    "**Quantidade de instâncias**: O conjunto de dados tem 344 pinguins, pertencentes a três espécies, coletados em três ilhas diferentes no Arquipélago Palmer.\n",
    "\n",
    "**Variaveis**: \n",
    "*species*: Representa a espécie da ave. Tipo qualitativo nominal.\n",
    "*island*: Indica a ilha onde a ave foi observada. Tipo qualitativo nominal. \n",
    "*bill_length_mm*: Comprimento do bico da ave em milímetros. Tipo quantitativo contínuo. \n",
    "*bill_depth_mm*:  Profundidade do bico da ave em milímetros. Tipo quantitativo contínuo.\n",
    "*flipper_length_mm*:  Comprimento da nadadeira da ave em milímetros. Tipo quantitativo contínuo. \n",
    "*body_mass_g*: Massa corporal da ave em gramas. Tipo quantitativo contínuo. \n",
    "*sex*: Indica o sexo da ave (MALE ou FEMALE). Tipo qualitativo nominal.\n",
    "\n",
    "**Valores faltantes:** Alguns valores estão ausentes nas colunas de bill_length_mm, bill_depth_mm, flipper_length_mm, body_mass_g e sex para uma instância da espécie Adelie e Gentoo. Isso deve ser levado em consideração durante a análise, como a necessidade de preencher ou remover valores ausentes."
   ]
  },
  {
   "cell_type": "markdown",
   "metadata": {},
   "source": [
    "## 2. Perguntas de partida e hipóteses"
   ]
  },
  {
   "cell_type": "markdown",
   "metadata": {},
   "source": [
    "### 1. Perguntas de partida\n",
    "\n",
    "a. O tamanho da massa corporal e nadadeiras, da mesma espécies, são diferente entre as ilhas?\n",
    "b. Como a massa corporal de pinguins se correlaciona com a dimensão de bicos nas diferentes ilhas?\n",
    "c. Há diferente entre a dimensão dos bicos e massa corpórea entre os sexos, em cada espécie?\n",
    "\n",
    "### 2. Hipóteses\n",
    "**Hipótese 01**: O tamanho da massa corporal e nadadeiras, da espécie Adelie, podem ser diferente entre as ilhas, pois pode ocorrer competição de comida.\n",
    "**Hipótese 02**: Por ter uma dimensão de bicos menor, pode ser que ingere pouca comida, sendo assim a massa corporea do pinguim pode ser menor do que a dos bicos com dimensão maior.\n",
    "**Hipótese 03**: Pode ser que a femea tem os bicos menores, para poder alimentar melhor os filhotes, e a massa corporea pode ser menor também por que a femea alimenta os filhotes."
   ]
  },
  {
   "cell_type": "code",
   "execution_count": null,
   "metadata": {},
   "outputs": [],
   "source": []
  },
  {
   "cell_type": "markdown",
   "metadata": {},
   "source": [
    "## 3. Insights"
   ]
  },
  {
   "cell_type": "markdown",
   "metadata": {},
   "source": [
    "1. Como temos duas espécies nas ilhas Dream e Biscoe, os dados mostram que não tem alteração expressiva entre os valores médios da espécie Adelie.\n",
    "\n",
    "2. Segundo os dados não tem correlação clara entre o comprimento dos bicos e a massa corporal. Por exemplo a espécie Chinstrap tem a maior média de comprimento de bico, mas a sua massa corporal é aproximadamente igual à de outras espécies estudadas e que tem o bico com comprimento menor.\n",
    "\n",
    "3. Os dados indicam que os machos tem a média de massa corporal maior do que as fêmeas, em todas as espécies, e também os machos tem a dimensão dos bicos maiores do que as fêmeas."
   ]
  }
 ],
 "metadata": {
  "kernelspec": {
   "display_name": "Python 3 (ipykernel)",
   "language": "python",
   "name": "python3"
  },
  "language_info": {
   "codemirror_mode": {
    "name": "ipython",
    "version": 3
   },
   "file_extension": ".py",
   "mimetype": "text/x-python",
   "name": "python",
   "nbconvert_exporter": "python",
   "pygments_lexer": "ipython3",
   "version": "3.10.11"
  },
  "vscode": {
   "interpreter": {
    "hash": "eb3c3305d8b111f0102f4f519c5f17abd113fe74db6752c355e994a9008815ef"
   }
  }
 },
 "nbformat": 4,
 "nbformat_minor": 4
}

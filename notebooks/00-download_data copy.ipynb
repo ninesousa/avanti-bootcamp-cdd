{
 "cells": [
  {
   "cell_type": "code",
   "execution_count": 11,
   "id": "4164d8b3-c3cf-4c03-b73a-363505ec86e2",
   "metadata": {
    "tags": []
   },
   "outputs": [],
   "source": [
    "import pandas as pd"
   ]
  },
  {
   "cell_type": "code",
   "execution_count": 15,
   "id": "8304d44a-28c3-4190-937d-30b77f445b06",
   "metadata": {
    "tags": []
   },
   "outputs": [],
   "source": [
    "df = pd.read_csv('https://raw.githubusercontent.com/atlantico-academy/datasets/refs/heads/main/penguins.csv')\n",
    "df = df.to_csv('../data/raw/data.csv', index=False)"
   ]
  },
  {
   "cell_type": "code",
   "execution_count": 13,
   "id": "78780ec0-5d2c-4a46-b5a1-80c00b32a738",
   "metadata": {
    "tags": []
   },
   "outputs": [],
   "source": [
    "data_dictionary = pd.DataFrame([\n",
    "{\n",
    "    \"variavel\": \"species\",\n",
    "    \"descricao\": \"Espécie de ave\",\n",
    "    \"tipo\": \"qualitativa\",\n",
    "    \"subtipo\": \"nominal\",\n",
    "},\n",
    "{\n",
    "    \"variavel\": \"island\",\n",
    "    \"descricao\": \"Ilha onde a ave foi observada\",\n",
    "    \"tipo\": \"qualitativa\",\n",
    "    \"subtipo\": \"nominal\",\n",
    "},\n",
    "{\n",
    "    \"variavel\": \"bill_length_mm\",\n",
    "    \"descricao\": \"Comprimento do bico de ave em milímetros\",\n",
    "    \"tipo\": \"quantitativa\",\n",
    "    \"subtipo\": \"contínua\",\n",
    "},\n",
    "{\n",
    "    \"variavel\": \"bill_depth_mm\",\n",
    "    \"descricao\": \"Profundidade do bico da ave em milímetros\",\n",
    "    \"tipo\": \"quantitativa\",\n",
    "    \"subtipo\": \"contínua\",\n",
    "},\n",
    "{\n",
    "    \"variavel\": \"flipper_length_mm\",\n",
    "    \"descricao\": \"Comprimento da nadadeira da ave em milímetros\" ,\n",
    "    \"tipo\": \"quantitativa\",\n",
    "    \"subtipo\": \"contínua\",\n",
    "},\n",
    "{\n",
    "    \"variavel\": \"body_mass_g\",\n",
    "    \"descricao\": \"Massa corporal da ave em gramas\",\n",
    "    \"tipo\": \"quantitativa\",\n",
    "    \"subtipo\": \"contínua\",\n",
    "},\n",
    "{\n",
    "    \"variavel\": \"sex\",\n",
    "    \"descricao\": \"Sexo da ave (Male ou Female).\",\n",
    "    \"tipo\": \"qualitativa\",\n",
    "    \"subtipo\": \"nominal\",\n",
    "}\n",
    "])\n",
    "\n",
    "data_dictionary.to_csv(\"../data/external/dictionary.csv\", index=False)"
   ]
  },
  {
   "cell_type": "code",
   "execution_count": 24,
   "id": "a758f081-f0bf-4417-a712-3ca21860f7b6",
   "metadata": {},
   "outputs": [
    {
     "name": "stdout",
     "output_type": "stream",
     "text": [
      "                            bill_length_mm  bill_depth_mm  flipper_length_mm  \\\n",
      "species   sex    island                                                        \n",
      "Adelie    FEMALE Biscoe              37.75          17.70              187.0   \n",
      "                 Dream               36.80          17.80              188.0   \n",
      "                 Torgersen           37.60          17.45              189.0   \n",
      "          MALE   Biscoe              40.80          18.90              191.0   \n",
      "                 Dream               40.25          18.65              190.5   \n",
      "                 Torgersen           41.10          19.20              195.0   \n",
      "Chinstrap FEMALE Dream               46.30          17.65              192.0   \n",
      "          MALE   Dream               50.95          19.30              200.5   \n",
      "Gentoo    FEMALE Biscoe              45.50          14.25              212.0   \n",
      "          MALE   Biscoe              49.50          15.70              221.0   \n",
      "\n",
      "                            body_mass_g  \n",
      "species   sex    island                  \n",
      "Adelie    FEMALE Biscoe          3375.0  \n",
      "                 Dream           3400.0  \n",
      "                 Torgersen       3400.0  \n",
      "          MALE   Biscoe          4000.0  \n",
      "                 Dream           3987.5  \n",
      "                 Torgersen       4000.0  \n",
      "Chinstrap FEMALE Dream           3550.0  \n",
      "          MALE   Dream           3950.0  \n",
      "Gentoo    FEMALE Biscoe          4700.0  \n",
      "          MALE   Biscoe          5500.0  \n"
     ]
    }
   ],
   "source": [
    "df = pd.read_csv('https://raw.githubusercontent.com/atlantico-academy/datasets/refs/heads/main/penguins.csv')\n",
    "data = df.groupby(['species', 'sex', 'island'])[['bill_length_mm', 'bill_depth_mm', 'flipper_length_mm', 'body_mass_g']].median()\n",
    "print (data)"
   ]
  },
  {
   "cell_type": "code",
   "execution_count": null,
   "id": "3d451cd2-f100-4701-8619-50db07a49fb6",
   "metadata": {},
   "outputs": [],
   "source": []
  }
 ],
 "metadata": {
  "kernelspec": {
   "display_name": "Python 3 (ipykernel)",
   "language": "python",
   "name": "python3"
  },
  "language_info": {
   "codemirror_mode": {
    "name": "ipython",
    "version": 3
   },
   "file_extension": ".py",
   "mimetype": "text/x-python",
   "name": "python",
   "nbconvert_exporter": "python",
   "pygments_lexer": "ipython3",
   "version": "3.10.11"
  }
 },
 "nbformat": 4,
 "nbformat_minor": 5
}

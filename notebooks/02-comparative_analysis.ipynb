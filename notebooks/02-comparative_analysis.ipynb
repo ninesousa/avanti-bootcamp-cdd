{
 "cells": [
  {
   "cell_type": "code",
   "execution_count": 1,
   "id": "c1dce4c4-7314-4335-b370-98124e3dca85",
   "metadata": {
    "tags": []
   },
   "outputs": [],
   "source": [
    "from IPython.display import display, Markdown\n",
    "import joblib\n",
    "import numpy as np\n",
    "import pandas as pd\n",
    "\n",
    "from sklearn.pipeline import Pipeline\n",
    "from sklearn.impute import SimpleImputer\n",
    "from sklearn.preprocessing import StandardScaler, MinMaxScaler, OneHotEncoder, OrdinalEncoder, LabelEncoder\n",
    "from sklearn.compose import ColumnTransformer\n",
    "from sklearn.linear_model import LogisticRegression\n",
    "\n",
    "from sklearn.neighbors import KNeighborsClassifier\n",
    "from sklearn.model_selection import ShuffleSplit, GridSearchCV, KFold, cross_validate\n",
    "from sklearn.svm import SVC\n",
    "from sklearn.tree import DecisionTreeClassifier\n",
    "from sklearn.ensemble import RandomForestClassifier"
   ]
  },
  {
   "cell_type": "markdown",
   "id": "a78ff6d4-21bb-4fd2-8b1b-013420247cc3",
   "metadata": {
    "tags": []
   },
   "source": [
    "### Dicionário dos Dados\n"
   ]
  },
  {
   "cell_type": "code",
   "execution_count": 2,
   "id": "74be359e-8515-4324-b83c-089d64053b59",
   "metadata": {
    "tags": []
   },
   "outputs": [
    {
     "ename": "NameError",
     "evalue": "name 'HTML' is not defined",
     "output_type": "error",
     "traceback": [
      "\u001b[0;31m---------------------------------------------------------------------------\u001b[0m",
      "\u001b[0;31mNameError\u001b[0m                                 Traceback (most recent call last)",
      "Cell \u001b[0;32mIn[2], line 2\u001b[0m\n\u001b[1;32m      1\u001b[0m dicionario \u001b[38;5;241m=\u001b[39m pd\u001b[38;5;241m.\u001b[39mread_csv(\u001b[38;5;124m\"\u001b[39m\u001b[38;5;124m../data/external/dictionary.csv\u001b[39m\u001b[38;5;124m\"\u001b[39m)\n\u001b[0;32m----> 2\u001b[0m display(\u001b[43mHTML\u001b[49m(dicionario\u001b[38;5;241m.\u001b[39mto_html(index\u001b[38;5;241m=\u001b[39m\u001b[38;5;28;01mFalse\u001b[39;00m)))\n",
      "\u001b[0;31mNameError\u001b[0m: name 'HTML' is not defined"
     ]
    }
   ],
   "source": [
    "dicionario = pd.read_csv(\"../data/external/dictionary.csv\")\n",
    "display(HTML(dicionario.to_html(index=False)))"
   ]
  },
  {
   "cell_type": "markdown",
   "id": "0c53716d-0da6-4fcf-89b7-a5b32f21899f",
   "metadata": {},
   "source": [
    "### Loading Dataset"
   ]
  },
  {
   "cell_type": "code",
   "execution_count": null,
   "id": "7d4de15d-41e1-4685-a684-e555aef12cae",
   "metadata": {
    "tags": []
   },
   "outputs": [],
   "source": [
    "dt = pd.read_csv('../data/raw/data.csv')\n",
    "dt.head()"
   ]
  },
  {
   "cell_type": "markdown",
   "id": "02e8bc13-3260-42dd-aba9-1fc7f707b273",
   "metadata": {},
   "source": [
    "### Limpeza e Pré Processamento de Dados"
   ]
  },
  {
   "cell_type": "code",
   "execution_count": null,
   "id": "6f6c27f4-cfb5-4a3b-94eb-0eac600e8593",
   "metadata": {
    "tags": []
   },
   "outputs": [],
   "source": [
    "dt.columns = ['species', 'island', 'bill_length_mm', 'bill_depth_mm', 'flipper_length_mm', 'body_mass_g', 'sex']"
   ]
  },
  {
   "cell_type": "code",
   "execution_count": null,
   "id": "d957b0b0-53f4-4c5e-bac3-54cd4a483b7a",
   "metadata": {
    "tags": []
   },
   "outputs": [],
   "source": [
    "dt.loc[dt['species'] == 1, 'species'] = 'Adelie'\n",
    "dt.loc[dt['species'] == 2, 'species'] = 'Chinstrap'\n",
    "dt.loc[dt['species'] == 3, 'species'] = 'Gentoo'\n",
    "\n",
    "dt.loc[dt['island'] == 0, 'island'] = 'Torgersen'\n",
    "dt.loc[dt['island'] == 1, 'island'] = 'Biscoe'\n",
    "dt.loc[dt['island'] == 2, 'island'] = 'Dream'\n",
    "\n",
    "dt.loc[dt['sex'] == 0, 'sex'] = 'MALE'\n",
    "dt.loc[dt['sex'] == 1, 'sex'] = 'FEMALE'"
   ]
  },
  {
   "cell_type": "code",
   "execution_count": null,
   "id": "e3a1f42d-3d31-4979-8403-27cd46fb9322",
   "metadata": {
    "tags": []
   },
   "outputs": [],
   "source": [
    "dt['species'].value_counts()"
   ]
  },
  {
   "cell_type": "code",
   "execution_count": null,
   "id": "df9eba0b-9fc8-4ad8-9fc6-5cbc7bcde4ce",
   "metadata": {
    "tags": []
   },
   "outputs": [],
   "source": [
    "dt['island'].value_counts()"
   ]
  },
  {
   "cell_type": "code",
   "execution_count": null,
   "id": "93974eff-ca83-4f23-bfac-2b4ae824e2bf",
   "metadata": {
    "tags": []
   },
   "outputs": [],
   "source": [
    "dt['sex'].value_counts()"
   ]
  },
  {
   "cell_type": "code",
   "execution_count": null,
   "id": "ebc981e4-92cc-48e5-a153-d6978714d475",
   "metadata": {
    "tags": []
   },
   "outputs": [],
   "source": [
    "dt.isna().sum()"
   ]
  },
  {
   "cell_type": "code",
   "execution_count": null,
   "id": "79e246ae-73a9-4d35-b1c8-e5c2bddf3e53",
   "metadata": {
    "tags": []
   },
   "outputs": [],
   "source": [
    "dt.head()"
   ]
  },
  {
   "cell_type": "code",
   "execution_count": null,
   "id": "0893ab9e-4e7d-4efc-bb81-08bd6ecce6d4",
   "metadata": {
    "tags": []
   },
   "outputs": [],
   "source": [
    "dt.isna().sum()"
   ]
  },
  {
   "cell_type": "code",
   "execution_count": null,
   "id": "b421294a-a65f-4db6-9d97-d0b5abf9e3c0",
   "metadata": {
    "tags": []
   },
   "outputs": [],
   "source": [
    "dt.head()"
   ]
  },
  {
   "cell_type": "code",
   "execution_count": null,
   "id": "27a945a5-4b59-4d49-af2f-b55c0fa36564",
   "metadata": {},
   "outputs": [],
   "source": []
  }
 ],
 "metadata": {
  "kernelspec": {
   "display_name": "Python 3 (ipykernel)",
   "language": "python",
   "name": "python3"
  },
  "language_info": {
   "codemirror_mode": {
    "name": "ipython",
    "version": 3
   },
   "file_extension": ".py",
   "mimetype": "text/x-python",
   "name": "python",
   "nbconvert_exporter": "python",
   "pygments_lexer": "ipython3",
   "version": "3.10.11"
  }
 },
 "nbformat": 4,
 "nbformat_minor": 5
}

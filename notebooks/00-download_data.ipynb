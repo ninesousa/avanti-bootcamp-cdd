{
 "cells": [
  {
   "cell_type": "code",
   "execution_count": 1,
   "id": "4164d8b3-c3cf-4c03-b73a-363505ec86e2",
   "metadata": {
    "tags": []
   },
   "outputs": [],
   "source": [
    "import pandas as pd"
   ]
  },
  {
   "cell_type": "code",
   "execution_count": 2,
   "id": "8304d44a-28c3-4190-937d-30b77f445b06",
   "metadata": {
    "tags": []
   },
   "outputs": [],
   "source": [
    "df = pd.read_csv('https://raw.githubusercontent.com/atlantico-academy/datasets/refs/heads/main/penguins.csv')\n",
    "df = df.to_csv('../data/raw/data.csv', index=False)"
   ]
  },
  {
   "cell_type": "code",
   "execution_count": 3,
   "id": "78780ec0-5d2c-4a46-b5a1-80c00b32a738",
   "metadata": {
    "tags": []
   },
   "outputs": [],
   "source": [
    "data_dictionary = pd.DataFrame([\n",
    "{\n",
    "    \"variavel\": \"species\",\n",
    "    \"descricao\": \"Espécie de ave\",\n",
    "    \"tipo\": \"qualitativa\",\n",
    "    \"subtipo\": \"nominal\",\n",
    "},\n",
    "{\n",
    "    \"variavel\": \"island\",\n",
    "    \"descricao\": \"Ilha onde a ave foi observada\",\n",
    "    \"tipo\": \"qualitativa\",\n",
    "    \"subtipo\": \"nominal\",\n",
    "},\n",
    "{\n",
    "    \"variavel\": \"bill_length_mm\",\n",
    "    \"descricao\": \"Comprimento do bico de ave em milímetros\",\n",
    "    \"tipo\": \"quantitativa\",\n",
    "    \"subtipo\": \"contínua\",\n",
    "},\n",
    "{\n",
    "    \"variavel\": \"bill_depth_mm\",\n",
    "    \"descricao\": \"Profundidade do bico da ave em milímetros\",\n",
    "    \"tipo\": \"quantitativa\",\n",
    "    \"subtipo\": \"contínua\",\n",
    "},\n",
    "{\n",
    "    \"variavel\": \"flipper_length_mm\",\n",
    "    \"descricao\": \"Comprimento da nadadeira da ave em milímetros\" ,\n",
    "    \"tipo\": \"quantitativa\",\n",
    "    \"subtipo\": \"contínua\",\n",
    "},\n",
    "{\n",
    "    \"variavel\": \"body_mass_g\",\n",
    "    \"descricao\": \"Massa corporal da ave em gramas\",\n",
    "    \"tipo\": \"quantitativa\",\n",
    "    \"subtipo\": \"contínua\",\n",
    "},\n",
    "{\n",
    "    \"variavel\": \"sex\",\n",
    "    \"descricao\": \"Sexo da ave (Male ou Female).\",\n",
    "    \"tipo\": \"qualitativa\",\n",
    "    \"subtipo\": \"nominal\",\n",
    "}\n",
    "])\n",
    "\n",
    "data_dictionary.to_csv(\"../data/external/dictionary.csv\", index=False)"
   ]
  },
  {
   "cell_type": "code",
   "execution_count": null,
   "id": "7677085b-f295-4b7c-a53c-ffb1180ec67d",
   "metadata": {},
   "outputs": [],
   "source": []
  }
 ],
 "metadata": {
  "kernelspec": {
   "display_name": "Python 3 (ipykernel)",
   "language": "python",
   "name": "python3"
  },
  "language_info": {
   "codemirror_mode": {
    "name": "ipython",
    "version": 3
   },
   "file_extension": ".py",
   "mimetype": "text/x-python",
   "name": "python",
   "nbconvert_exporter": "python",
   "pygments_lexer": "ipython3",
   "version": "3.10.11"
  }
 },
 "nbformat": 4,
 "nbformat_minor": 5
}
